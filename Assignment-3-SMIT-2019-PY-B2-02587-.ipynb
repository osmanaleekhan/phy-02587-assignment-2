{
 "cells": [
  {
   "cell_type": "code",
   "execution_count": 1,
   "metadata": {},
   "outputs": [
    {
     "name": "stdout",
     "output_type": "stream",
     "text": [
      "Enter First Value8\n",
      "Enter Second Value42\n",
      "Enter Operaor/\n",
      "0.19047619047619047 answer\n"
     ]
    }
   ],
   "source": [
    "#calculator\n",
    "val1 = input('Enter First Value')\n",
    "val2 = input('Enter Second Value')\n",
    "operator = input('Enter Operaor')\n",
    "val1 = int(val1)\n",
    "val2 = int(val2)\n",
    "\n",
    "if operator == '+':\n",
    "    val = val1 + val2\n",
    "    print(val,'answer')\n",
    "elif operator == '-':\n",
    "    val = val1 - val2\n",
    "    print(val,'answer')\n",
    "elif operator == '*':\n",
    "    val = val1 * val2\n",
    "    print(val,'answer')\n",
    "elif operator == '/':\n",
    "    val = val1 / val2\n",
    "    print(val,'answer')\n",
    "else:\n",
    "    print('Enter Correct Operator')\n",
    "\n"
   ]
  },
  {
   "cell_type": "code",
   "execution_count": 6,
   "metadata": {},
   "outputs": [
    {
     "name": "stdout",
     "output_type": "stream",
     "text": [
      "Checking if 4 exists in list ( using loop ) : \n",
      "Element Exists\n"
     ]
    }
   ],
   "source": [
    "# Python code to demonstrate \n",
    "# checking of element existence \n",
    "# using loops and in \n",
    "  \n",
    "# Initializing list  \n",
    "assignment_list = [ 1, 2, 3, 5, 3, 4 ] \n",
    "  \n",
    "print(\"Checking if 4 exists in list ( using loop ) : \") \n",
    "\n",
    "if (4 in test_list): \n",
    "    print (\"Element Exists\") "
   ]
  },
  {
   "cell_type": "code",
   "execution_count": 9,
   "metadata": {},
   "outputs": [
    {
     "name": "stdout",
     "output_type": "stream",
     "text": [
      "{0: 10, 1: 20, 2: 40}\n",
      "{0: 10, 1: 20, 2: 30}\n"
     ]
    }
   ],
   "source": [
    "#Python script for \n",
    "#add a key to a dictionary\n",
    "\n",
    "d = {0:10, 1:20, 2:40}  \n",
    "print(d)  \n",
    "d.update({2:30})  \n",
    "print(d)  "
   ]
  },
  {
   "cell_type": "code",
   "execution_count": 20,
   "metadata": {},
   "outputs": [
    {
     "name": "stdout",
     "output_type": "stream",
     "text": [
      "Total Sum Of All Numeric Item Is: 1380\n"
     ]
    }
   ],
   "source": [
    "#sum all the numeric items in a dictionary\n",
    "def returnSum(myDict): \n",
    "      \n",
    "    sum = 0\n",
    "    for i in myDict: \n",
    "        sum = sum + myDict[i] \n",
    "      \n",
    "    return sum\n",
    "dict = {'a': 430, 'b':650, 'c':300} \n",
    "print(\"Total Sum Of All Numeric Item Is:\", returnSum(dict)) "
   ]
  },
  {
   "cell_type": "code",
   "execution_count": 21,
   "metadata": {},
   "outputs": [
    {
     "name": "stdout",
     "output_type": "stream",
     "text": [
      "[1, 2, 3, 4, 5, 6]\n"
     ]
    }
   ],
   "source": [
    "#identify duplicate values from list\n",
    "\n",
    "def Remove(duplicate): \n",
    "    final_list = [] \n",
    "    for num in duplicate: \n",
    "        if num not in final_list: \n",
    "            final_list.append(num) \n",
    "    return final_list \n",
    "      \n",
    "duplicate = [1, 1, 2, 2, 3, 4, 5, 6] \n",
    "print(Remove(duplicate))    "
   ]
  },
  {
   "cell_type": "code",
   "execution_count": 24,
   "metadata": {},
   "outputs": [
    {
     "name": "stdout",
     "output_type": "stream",
     "text": [
      "Key is present in the dictionary\n",
      "Key is not present in the dictionary\n"
     ]
    }
   ],
   "source": [
    "#script to check if a given key already exists in a dictionary\n",
    "\n",
    "d = {1: 2, 2: 3, 3: 4, 4: 5, 5: 6, 6: 7}\n",
    "def is_key_present(x):\n",
    "  if x in d:\n",
    "      print('Key is present in the dictionary')\n",
    "  else:\n",
    "      print('Key is not present in the dictionary')\n",
    "is_key_present(5)\n",
    "is_key_present(9)\n"
   ]
  },
  {
   "cell_type": "code",
   "execution_count": null,
   "metadata": {},
   "outputs": [],
   "source": []
  }
 ],
 "metadata": {
  "kernelspec": {
   "display_name": "Python 3",
   "language": "python",
   "name": "python3"
  },
  "language_info": {
   "codemirror_mode": {
    "name": "ipython",
    "version": 3
   },
   "file_extension": ".py",
   "mimetype": "text/x-python",
   "name": "python",
   "nbconvert_exporter": "python",
   "pygments_lexer": "ipython3",
   "version": "3.7.4"
  }
 },
 "nbformat": 4,
 "nbformat_minor": 2
}
