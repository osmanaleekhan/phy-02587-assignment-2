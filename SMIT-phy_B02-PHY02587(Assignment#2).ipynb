{
 "cells": [
  {
   "cell_type": "code",
   "execution_count": 23,
   "metadata": {},
   "outputs": [
    {
     "name": "stdout",
     "output_type": "stream",
     "text": [
      "Enter your marks of English out of 100 = 88\n",
      "Enter your marks of Metal_and_Wood_Workshop out of 100 = 94\n",
      "Enter your marks of Chemistry out of 100 = 86\n",
      "Enter your marks of Physics out of 100 = 82\n",
      "Enter your marks of Maths out of 100 = 91\n",
      "Enter your marks of Fundamental_Of_Bio_Medical_Enginerring out of 100 = 78\n",
      "Enter your marks of Tech_Drawing out of 100 = 74\n",
      "Your Total Marks are 593\n",
      "Your Percentage is 84.71428571428572\n",
      "Congratulations! You have secured Grade A\n"
     ]
    }
   ],
   "source": [
    "\n",
    "Tech_English= int(input(\"Enter your marks of English out of 100 = \"))\n",
    "Metal_and_Wood_Workshop= int(input(\"Enter your marks of Metal_and_Wood_Workshop out of 100 = \"))\n",
    "Applied_Chemistry= int(input(\"Enter your marks of Chemistry out of 100 = \"))\n",
    "Applied_Physics= int(input(\"Enter your marks of Physics out of 100 = \"))\n",
    "Applied_Maths= int(input(\"Enter your marks of Maths out of 100 = \"))\n",
    "Fundamental_Of_Bio_Medical_Enginerring= int(input(\"Enter your marks of Fundamental_Of_Bio_Medical_Enginerring out of 100 = \"))\n",
    "Tech_Drawing= int(input(\"Enter your marks of Tech_Drawing out of 100 = \"))\n",
    "Total_marks= Tech_English+Metal_and_Wood_Workshop+Applied_Chemistry+Applied_Physics+Applied_Maths+Fundamental_Of_Bio_Medical_Enginerring+Tech_Drawing\n",
    "Percentage= (Total_marks/700)*100\n",
    "print(\"Your Total Marks are \" + str(Total_marks))\n",
    "print(\"Your Percentage is\" + \" \" + str(Percentage))\n",
    "if Percentage >= 90 and Percentage <=100:\n",
    " print(\"Congratulations! You have secured Grade A+\")\n",
    "elif Percentage <90 and Percentage >=80:\n",
    " print(\"Congratulations! You have secured Grade A\")\n",
    "elif Percentage <80 and Percentage >=70:\n",
    " print(\"Congratulations You have secured Grade B\")\n",
    "elif Percentage <70 and Percentage >=60:\n",
    " print(\"Congratulations You have secured Grade C\")\n",
    "else:\n",
    " print(\"You have failed in examinations\")"
   ]
  },
  {
   "cell_type": "code",
   "execution_count": 9,
   "metadata": {},
   "outputs": [
    {
     "name": "stdout",
     "output_type": "stream",
     "text": [
      "Enter a number: 31\n",
      "This is an odd number.\n"
     ]
    }
   ],
   "source": [
    "num = int(input(\"Enter a number: \"))\n",
    "mod = num % 2\n",
    "if mod > 0:\n",
    "    print(\"This is an odd number.\")\n",
    "else:\n",
    "    print(\"This is an even number.\")"
   ]
  },
  {
   "cell_type": "code",
   "execution_count": 18,
   "metadata": {},
   "outputs": [
    {
     "name": "stdout",
     "output_type": "stream",
     "text": [
      "The length of list is:  1\n"
     ]
    }
   ],
   "source": [
    "n = len([\"Saylani_Welfare\" \"\" \"\" \"Mass_IT_Training\"]) \n",
    "print(\"The length of list is: \", n) "
   ]
  },
  {
   "cell_type": "code",
   "execution_count": 21,
   "metadata": {},
   "outputs": [
    {
     "name": "stdout",
     "output_type": "stream",
     "text": [
      "How many numbers: 2\n",
      "Enter number 1\n",
      "Enter number 1\n",
      "Sum of elements in given list is : 2\n"
     ]
    }
   ],
   "source": [
    "lst = []\n",
    "num = int(input('How many numbers: '))\n",
    "for n in range(num):\n",
    "    numbers = int(input('Enter number '))\n",
    "    lst.append(numbers)\n",
    "print(\"Sum of elements in given list is :\", sum(lst))\n",
    "\n"
   ]
  },
  {
   "cell_type": "code",
   "execution_count": 24,
   "metadata": {},
   "outputs": [
    {
     "name": "stdout",
     "output_type": "stream",
     "text": [
      "How many numbers: 11\n",
      "Enter number 1\n",
      "Enter number 1\n",
      "Enter number 2\n",
      "Enter number 3\n",
      "Enter number 5\n",
      "Enter number 8\n",
      "Enter number 13\n",
      "Enter number 21\n",
      "Enter number 34\n",
      "Enter number 55\n",
      "Enter number 89\n",
      "Maximum element in the list is : 89 \n",
      "Minimum element in the list is : 1\n"
     ]
    }
   ],
   "source": [
    "lst = []\n",
    "num = int(input('How many numbers: '))\n",
    "for n in range(num):\n",
    "    numbers = int(input('Enter number '))\n",
    "    lst.append(numbers)\n",
    "print(\"Maximum element in the list is :\", max(lst), \"\\nMinimum element in the list is :\", min(lst))"
   ]
  },
  {
   "cell_type": "code",
   "execution_count": null,
   "metadata": {},
   "outputs": [],
   "source": []
  }
 ],
 "metadata": {
  "kernelspec": {
   "display_name": "Python 3",
   "language": "python",
   "name": "python3"
  },
  "language_info": {
   "codemirror_mode": {
    "name": "ipython",
    "version": 3
   },
   "file_extension": ".py",
   "mimetype": "text/x-python",
   "name": "python",
   "nbconvert_exporter": "python",
   "pygments_lexer": "ipython3",
   "version": "3.7.4"
  }
 },
 "nbformat": 4,
 "nbformat_minor": 2
}
